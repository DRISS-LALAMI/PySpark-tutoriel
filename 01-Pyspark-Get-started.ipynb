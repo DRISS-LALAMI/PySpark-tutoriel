{
 "cells": [
  {
   "cell_type": "code",
   "execution_count": 1,
   "id": "7e7a1c87-9b1d-4ac4-b9c1-f1cdad827863",
   "metadata": {},
   "outputs": [],
   "source": [
    "import os"
   ]
  },
  {
   "cell_type": "code",
   "execution_count": 20,
   "id": "98c3a094-1979-4d17-8add-183918375fa8",
   "metadata": {},
   "outputs": [],
   "source": [
    "import sys\n",
    "import os\n",
    "\n",
    "# Add PySpark and Python paths manually (adjust paths as needed)\n",
    "spark_home = os.environ.get('SPARK_HOME', None)  # Optional: Set if using standalone Spark\n",
    "python_path = os.path.join(spark_home, 'python') if spark_home else ''\n",
    "sys.path.insert(0, python_path)\n",
    "sys.path.insert(0, os.path.join(python_path, 'lib', 'py4j-0.10.9.7-src.zip'))  # Match your Py4J version"
   ]
  },
  {
   "cell_type": "code",
   "execution_count": 21,
   "id": "3cb43cf2-ae08-4aec-92cb-5b0b0390a207",
   "metadata": {},
   "outputs": [],
   "source": [
    "os.environ['SPARK_HOME'] = \"/Applications/spark-3.5.5-bin-hadoop3\"\n",
    "os.environ['PYSPARK_DRIVER_PYTHON'] = 'jupyter'\n",
    "os.environ['PYSPARK_DRIVER_PYTHON_OPTS'] = 'lab'\n",
    "os.environ['PYSPARK_PYTHON'] = 'python'\n"
   ]
  },
  {
   "cell_type": "code",
   "execution_count": 22,
   "id": "292999da-c8d3-46f8-b8da-b22917ba47d1",
   "metadata": {},
   "outputs": [],
   "source": [
    "import pandas as pd\n"
   ]
  },
  {
   "cell_type": "code",
   "execution_count": 25,
   "id": "e745e11a-fed4-4ae2-af7b-a3457de5f836",
   "metadata": {},
   "outputs": [],
   "source": [
    "import sys\n",
    "sys.executable\n",
    "from pyspark.sql import SparkSession"
   ]
  },
  {
   "cell_type": "code",
   "execution_count": 29,
   "id": "6bae4fc5-21f2-46d3-81a3-51251d9668bc",
   "metadata": {},
   "outputs": [
    {
     "name": "stderr",
     "output_type": "stream",
     "text": [
      "Setting default log level to \"WARN\".\n",
      "To adjust logging level use sc.setLogLevel(newLevel). For SparkR, use setLogLevel(newLevel).\n",
      "25/04/10 16:28:02 WARN NativeCodeLoader: Unable to load native-hadoop library for your platform... using builtin-java classes where applicable\n"
     ]
    }
   ],
   "source": [
    "# Create a SparkSession\n",
    "\n",
    "spark = SparkSession.builder \\\n",
    "        .appName(\"Pyspark-Get-started.ipynb\") \\\n",
    "        .getOrCreate()"
   ]
  },
  {
   "cell_type": "code",
   "execution_count": 32,
   "id": "9313c29e-271a-4e50-b76f-fd88cf15981b",
   "metadata": {},
   "outputs": [],
   "source": [
    "# Test the setup \n",
    "\n",
    "data = [(\"Driss\", 25), (\"Ahmed\", 19), (\"Yacine\", 33)]\n",
    "df = spark.createDataFrame(data, [\"Name\", \"Age\"])"
   ]
  },
  {
   "cell_type": "code",
   "execution_count": 33,
   "id": "c1e3a877-238f-4848-9830-68b72a52117e",
   "metadata": {},
   "outputs": [
    {
     "name": "stderr",
     "output_type": "stream",
     "text": [
      "                                                                                "
     ]
    },
    {
     "name": "stdout",
     "output_type": "stream",
     "text": [
      "+------+---+\n",
      "|  Name|Age|\n",
      "+------+---+\n",
      "| Driss| 25|\n",
      "| Ahmed| 19|\n",
      "|Yacine| 33|\n",
      "+------+---+\n",
      "\n"
     ]
    }
   ],
   "source": [
    "df.show()"
   ]
  },
  {
   "cell_type": "code",
   "execution_count": null,
   "id": "62333238-e744-4ad7-bc8a-5f6383c44792",
   "metadata": {},
   "outputs": [],
   "source": []
  }
 ],
 "metadata": {
  "kernelspec": {
   "display_name": "Python 3 (ipykernel)",
   "language": "python",
   "name": "python3"
  },
  "language_info": {
   "codemirror_mode": {
    "name": "ipython",
    "version": 3
   },
   "file_extension": ".py",
   "mimetype": "text/x-python",
   "name": "python",
   "nbconvert_exporter": "python",
   "pygments_lexer": "ipython3",
   "version": "3.11.0"
  }
 },
 "nbformat": 4,
 "nbformat_minor": 5
}
