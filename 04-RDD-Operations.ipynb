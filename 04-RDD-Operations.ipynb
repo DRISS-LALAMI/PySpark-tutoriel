{
 "cells": [
  {
   "cell_type": "code",
   "execution_count": 3,
   "id": "aa78163b-39f1-477c-94ed-758b7991ad87",
   "metadata": {},
   "outputs": [],
   "source": [
    "import sys\n",
    "import os\n",
    "\n",
    "\n",
    "\n",
    "# Add PySpark and Python paths manually (adjust paths as needed)\n",
    "spark_home = os.environ.get('SPARK_HOME', None)  # Optional: Set if using standalone Spark\n",
    "python_path = os.path.join(spark_home, 'python') if spark_home else ''\n",
    "sys.path.insert(0, python_path)\n",
    "sys.path.insert(0, os.path.join(python_path, 'lib', 'py4j-0.10.9.7-src.zip'))  # Match your Py4J version"
   ]
  },
  {
   "cell_type": "code",
   "execution_count": 4,
   "id": "45223c62-ed5a-46f4-aef8-b01c8ebad756",
   "metadata": {},
   "outputs": [],
   "source": [
    "os.environ['SPARK_HOME'] = \"/Applications/spark-3.5.5-bin-hadoop3\"\n",
    "os.environ['PYSPARK_DRIVER_PYTHON'] = 'jupyter'\n",
    "os.environ['PYSPARK_DRIVER_PYTHON_OPTS'] = 'lab'\n",
    "os.environ['PYSPARK_PYTHON'] = 'python'"
   ]
  },
  {
   "cell_type": "code",
   "execution_count": 5,
   "id": "21f623f0-8847-4799-ad23-3c3342eaacd1",
   "metadata": {},
   "outputs": [],
   "source": [
    "from pyspark.sql import SparkSession"
   ]
  },
  {
   "cell_type": "code",
   "execution_count": 8,
   "id": "ca73632e-130b-4721-bb3f-86ae529252b4",
   "metadata": {},
   "outputs": [
    {
     "name": "stderr",
     "output_type": "stream",
     "text": [
      "Setting default log level to \"WARN\".\n",
      "To adjust logging level use sc.setLogLevel(newLevel). For SparkR, use setLogLevel(newLevel).\n",
      "25/04/10 17:40:10 WARN NativeCodeLoader: Unable to load native-hadoop library for your platform... using builtin-java classes where applicable\n",
      "25/04/10 17:40:11 WARN Utils: Service 'SparkUI' could not bind on port 4040. Attempting port 4041.\n",
      "25/04/10 17:40:11 WARN Utils: Service 'SparkUI' could not bind on port 4041. Attempting port 4042.\n"
     ]
    }
   ],
   "source": [
    "spark = SparkSession.builder \\\n",
    "        .appName(\"RDD-DEMO\").getOrCreate()\n"
   ]
  },
  {
   "cell_type": "markdown",
   "id": "808e611e-8bff-4c79-9d25-c2ba2c64727a",
   "metadata": {},
   "source": [
    "# How to create RDDs"
   ]
  },
  {
   "cell_type": "code",
   "execution_count": 17,
   "id": "5ba413e6-7564-4537-9517-c492e0fe03a9",
   "metadata": {},
   "outputs": [],
   "source": [
    "numbers = list(range(1,6)) "
   ]
  },
  {
   "cell_type": "code",
   "execution_count": 18,
   "id": "dfa6afd8-f3b5-41e5-9019-8c44149b6061",
   "metadata": {},
   "outputs": [],
   "source": [
    "rdd = spark.sparkContext.parallelize(numbers)"
   ]
  },
  {
   "cell_type": "code",
   "execution_count": 20,
   "id": "c983e8fe-e179-4941-b479-7c534c011e7e",
   "metadata": {},
   "outputs": [
    {
     "name": "stderr",
     "output_type": "stream",
     "text": [
      "                                                                                "
     ]
    },
    {
     "data": {
      "text/plain": [
       "[1, 2, 3, 4, 5]"
      ]
     },
     "execution_count": 20,
     "metadata": {},
     "output_type": "execute_result"
    }
   ],
   "source": [
    "# retrieve all elements of the RDD\n",
    "rdd.collect()"
   ]
  },
  {
   "cell_type": "code",
   "execution_count": 21,
   "id": "1fb8bbf8-e23b-48a4-a764-9f862c5494ae",
   "metadata": {},
   "outputs": [],
   "source": [
    "# create an RDD from a list of tuples"
   ]
  },
  {
   "cell_type": "code",
   "execution_count": 78,
   "id": "6497752c-8c0b-4e39-8085-53c5df4ffe83",
   "metadata": {},
   "outputs": [],
   "source": [
    "data = [(\"Driss\", 25), (\"Ahmed\", 19), (\"Yacine\", 33), (\"Ahmed\", 27)]\n",
    "rdd = spark.sparkContext.parallelize(data)"
   ]
  },
  {
   "cell_type": "code",
   "execution_count": 79,
   "id": "e016bcf5-d62b-4f24-a806-d569bec9fca3",
   "metadata": {},
   "outputs": [
    {
     "name": "stdout",
     "output_type": "stream",
     "text": [
      "All elements of the rdd  [('Driss', 25), ('Ahmed', 19), ('Yacine', 33), ('Ahmed', 27)]\n"
     ]
    }
   ],
   "source": [
    "print(\"All elements of the rdd \",rdd.collect())"
   ]
  },
  {
   "cell_type": "markdown",
   "id": "06ef336b-6456-42f2-8390-60a881eb6a7c",
   "metadata": {},
   "source": [
    "# RDD Actions\n"
   ]
  },
  {
   "cell_type": "code",
   "execution_count": 80,
   "id": "5745b413-8457-41be-98cc-6efbdf059a5e",
   "metadata": {},
   "outputs": [],
   "source": [
    "count = rdd.count()"
   ]
  },
  {
   "cell_type": "code",
   "execution_count": 81,
   "id": "08089cb4-0231-4a99-aeb1-9b1ee9f77c7e",
   "metadata": {},
   "outputs": [
    {
     "name": "stdout",
     "output_type": "stream",
     "text": [
      "the number of elements are :  4\n"
     ]
    }
   ],
   "source": [
    "print(\"the number of elements are : \",count)"
   ]
  },
  {
   "cell_type": "code",
   "execution_count": 82,
   "id": "dd527a8b-1db0-4396-aa17-ce364ae27538",
   "metadata": {},
   "outputs": [
    {
     "name": "stdout",
     "output_type": "stream",
     "text": [
      "the first element of the rdd is:  ('Driss', 25)\n"
     ]
    }
   ],
   "source": [
    "first_element = rdd.first()\n",
    "print(\"the first element of the rdd is: \", first_element)"
   ]
  },
  {
   "cell_type": "code",
   "execution_count": 83,
   "id": "511f6ebd-2c27-4015-a129-66dba9274c99",
   "metadata": {},
   "outputs": [
    {
     "name": "stdout",
     "output_type": "stream",
     "text": [
      "the first two elements of the rdd are: [('Driss', 25), ('Ahmed', 19)]\n"
     ]
    }
   ],
   "source": [
    "taken_elements = rdd.take(2)\n",
    "print(\"the first two elements of the rdd are: {}\".format(taken_elements))"
   ]
  },
  {
   "cell_type": "code",
   "execution_count": 84,
   "id": "8b4c2b01-33ea-451b-8efc-29d25ff13240",
   "metadata": {},
   "outputs": [
    {
     "name": "stderr",
     "output_type": "stream",
     "text": [
      "('Driss', 25)\n",
      "('Yacine', 33)\n",
      "('Ahmed', 19)\n",
      "('Ahmed', 27)\n"
     ]
    }
   ],
   "source": [
    "rdd.foreach(lambda x: print(x))"
   ]
  },
  {
   "cell_type": "markdown",
   "id": "799d6b61-94a0-4d7d-b266-a9c219f13342",
   "metadata": {},
   "source": [
    "# RDDs Operation: Transformations"
   ]
  },
  {
   "cell_type": "code",
   "execution_count": 85,
   "id": "22f59ba5-3bb0-4844-8d3a-69fc270ebcc0",
   "metadata": {},
   "outputs": [],
   "source": [
    "mapped_rdd = rdd.map(lambda x: (x[0].capitalize(), x[1] ))"
   ]
  },
  {
   "cell_type": "code",
   "execution_count": 86,
   "id": "0db7e082-e05a-4002-ad5f-2b26ef327e80",
   "metadata": {},
   "outputs": [],
   "source": [
    "result = mapped_rdd.collect()"
   ]
  },
  {
   "cell_type": "code",
   "execution_count": 87,
   "id": "58fa7b6c-34ad-4f1a-8ab7-7ec2b28bf8f6",
   "metadata": {},
   "outputs": [
    {
     "name": "stdout",
     "output_type": "stream",
     "text": [
      "[('Driss', 25), ('Ahmed', 19), ('Yacine', 33), ('Ahmed', 27)]\n"
     ]
    }
   ],
   "source": [
    "print(result)"
   ]
  },
  {
   "cell_type": "code",
   "execution_count": 88,
   "id": "3eeb1c02-3e7d-429c-9744-ee141e45e7c9",
   "metadata": {},
   "outputs": [],
   "source": [
    "# filter transformations "
   ]
  },
  {
   "cell_type": "code",
   "execution_count": 89,
   "id": "5be1e258-773a-4c7f-b146-c1179f33c43c",
   "metadata": {},
   "outputs": [
    {
     "data": {
      "text/plain": [
       "[('Yacine', 33), ('Ahmed', 27)]"
      ]
     },
     "execution_count": 89,
     "metadata": {},
     "output_type": "execute_result"
    }
   ],
   "source": [
    "filtred_rdd = rdd.filter(lambda x : x[1]>25)\n",
    "filtred_rdd.collect()"
   ]
  },
  {
   "cell_type": "code",
   "execution_count": 93,
   "id": "5f29526a-a172-48bd-bec5-ea1a3ce3015c",
   "metadata": {},
   "outputs": [
    {
     "data": {
      "text/plain": [
       "[('Yacine', 33), ('Driss', 25), ('Ahmed', 46)]"
      ]
     },
     "execution_count": 93,
     "metadata": {},
     "output_type": "execute_result"
    }
   ],
   "source": [
    "reduced_rdd = rdd.reduceByKey(lambda x, y: x + y)\n",
    "reduced_rdd.collect()"
   ]
  },
  {
   "cell_type": "markdown",
   "id": "e23c4184-f27f-4a8f-b1ca-e054223ac198",
   "metadata": {},
   "source": [
    "# Save RDDs to text file and read RDDs from text file\n"
   ]
  },
  {
   "cell_type": "code",
   "execution_count": 94,
   "id": "620cd7fc-a5f3-4d6f-b525-0d84bdc8efb5",
   "metadata": {},
   "outputs": [],
   "source": [
    "rdd.saveAsTextFile(\"output.txt\")"
   ]
  },
  {
   "cell_type": "code",
   "execution_count": 95,
   "id": "0f862613-dfec-4284-8016-504be019de0d",
   "metadata": {},
   "outputs": [],
   "source": [
    "rdd_text = spark.sparkContext.textFile(\"output.txt\")"
   ]
  },
  {
   "cell_type": "code",
   "execution_count": 106,
   "id": "8fa79528-8520-45b4-b5bc-65b96db80064",
   "metadata": {},
   "outputs": [
    {
     "name": "stderr",
     "output_type": "stream",
     "text": [
      "('Driss', 25)\n",
      "('Yacine', 33)\n",
      "('Ahmed', 19)\n",
      "('Ahmed', 27)\n"
     ]
    }
   ],
   "source": [
    "rdd_text.foreach(lambda x : print(x))"
   ]
  },
  {
   "cell_type": "code",
   "execution_count": null,
   "id": "8cd7d293-a88e-4737-85e4-84e7d84c4c4f",
   "metadata": {},
   "outputs": [],
   "source": []
  }
 ],
 "metadata": {
  "kernelspec": {
   "display_name": "Python 3 (ipykernel)",
   "language": "python",
   "name": "python3"
  },
  "language_info": {
   "codemirror_mode": {
    "name": "ipython",
    "version": 3
   },
   "file_extension": ".py",
   "mimetype": "text/x-python",
   "name": "python",
   "nbconvert_exporter": "python",
   "pygments_lexer": "ipython3",
   "version": "3.11.0"
  }
 },
 "nbformat": 4,
 "nbformat_minor": 5
}
